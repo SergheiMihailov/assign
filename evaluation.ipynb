{
  "nbformat": 4,
  "nbformat_minor": 0,
  "metadata": {
    "colab": {
      "name": "evaluation.ipynb",
      "provenance": [],
      "collapsed_sections": [],
      "include_colab_link": true
    },
    "kernelspec": {
      "name": "python3",
      "display_name": "Python 3"
    },
    "language_info": {
      "name": "python"
    }
  },
  "cells": [
    {
      "cell_type": "markdown",
      "metadata": {
        "id": "view-in-github",
        "colab_type": "text"
      },
      "source": [
        "<a href=\"https://colab.research.google.com/github/SergheiMihailov/assign/blob/master/evaluation.ipynb\" target=\"_parent\"><img src=\"https://colab.research.google.com/assets/colab-badge.svg\" alt=\"Open In Colab\"/></a>"
      ]
    },
    {
      "cell_type": "code",
      "metadata": {
        "id": "GBWoi58yMuUQ"
      },
      "source": [
        "from google.colab import drive\n",
        "drive.mount('/content/drive')"
      ],
      "execution_count": null,
      "outputs": []
    },
    {
      "cell_type": "code",
      "metadata": {
        "id": "KFpk33OqSZhO"
      },
      "source": [
        "!pip install -q -U livelossplot"
      ],
      "execution_count": null,
      "outputs": []
    },
    {
      "cell_type": "code",
      "metadata": {
        "id": "AIfkKXv7M7P4"
      },
      "source": [
        "# Imports\n",
        "import gdown\n",
        "import os\n",
        "import json\n",
        "import csv   \n",
        "import cv2\n",
        "import numpy as np\n",
        "import pandas as pd\n",
        "from PIL import Image\n",
        "import scipy.misc\n",
        "import sklearn\n",
        "from sklearn.model_selection import StratifiedKFold\n",
        "import tensorflow as tf\n",
        "import keras\n",
        "from keras.models import Sequential\n",
        "from keras.preprocessing.image import ImageDataGenerator\n",
        "from keras import backend as K\n",
        "import tensorflow.keras.layers.experimental.preprocessing as keras_preproc\n",
        "#import kerastuner as kt\n",
        "import keras\n",
        "import io\n",
        "import json\n",
        "import pandas as pd\n",
        "import tensorflow as tf\n",
        "import sklearn\n",
        "import matplotlib.pyplot as plt\n",
        "import itertools\n",
        "import numpy as np\n",
        "import os, shutil\n",
        "from datetime import datetime\n",
        "from sklearn.model_selection import train_test_split\n",
        "from keras.preprocessing.image import ImageDataGenerator\n",
        "from keras.preprocessing.image import ImageDataGenerator\n",
        "from keras.models import Sequential\n",
        "from keras.layers import Conv2D, MaxPooling2D\n",
        "from keras.layers import Activation, Dropout, Flatten, Dense\n",
        "from keras import backend as K\n",
        "from collections import Counter\n",
        "import random\n",
        "from keras.models import model_from_json\n",
        "from livelossplot import PlotLossesKeras\n",
        "from keras.callbacks import CSVLogger"
      ],
      "execution_count": null,
      "outputs": []
    },
    {
      "cell_type": "code",
      "metadata": {
        "id": "4FTNMqFZNEdY"
      },
      "source": [
        "EVALUATION_IMAGES_PATH = 'evaluation_train_images/'\n",
        "EVALUATION_LABELS_PATH = 'evaluation_train_data.csv'\n",
        "TEST_IMAGES_PATH = 'test_images/'\n",
        "TEST_LABELS_PATH = 'test_data.csv'\n",
        "\n",
        "LABEL_TO_DISEASE_MAP_PATH = 'label_num_to_disease_map.json'\n",
        "CONFUSION_MATRICES_PATH = '/content/drive/MyDrive/ml_project/confusion_matrices/'\n",
        "MODEL_CP_PATH = '/content/drive/MyDrive/ml_project/models/'\n",
        "HYPERPARAMETERS_PATH = '/content/drive/MyDrive/ml_project/hyperparams'\n",
        "LOGS_PATH = '/content/drive/MyDrive/ml_project/logs'\n",
        "\n",
        "N_CLASSES = 5\n",
        "\n",
        "# Images\n",
        "IMG_SIZE = 224\n",
        "SIZE = (IMG_SIZE,IMG_SIZE)\n",
        "INPUT_SHAPE = (IMG_SIZE, IMG_SIZE, 3)\n",
        "\n",
        "# Training\n",
        "EPOCHS_TO_TRAIN = 30\n",
        "BATCH_SIZE = 32"
      ],
      "execution_count": null,
      "outputs": []
    },
    {
      "cell_type": "code",
      "metadata": {
        "id": "tBo8V2k7NJ1K"
      },
      "source": [
        "os.chdir('/content/')\n",
        "\n",
        "if not os.path.exists(LABEL_TO_DISEASE_MAP_PATH):\n",
        "  !wget files.brainfriz.com/ml_project/label_num_to_disease_map.json\n",
        "\n",
        "if not os.path.exists(EVALUATION_IMAGES_PATH):\n",
        "  !wget files.brainfriz.com/ml_project/evaluation_data.rar\n",
        "  \n",
        "if not os.path.exists('/content/drive/MyDrive/ml_project/'):\n",
        "  !mkdir /content/drive/MyDrive/ml_project\n",
        "  \n",
        "if not os.path.exists(CONFUSION_MATRICES_PATH):\n",
        "  !mkdir /content/drive/MyDrive/ml_project/confusion_matrices #for the confusion matrix images\n",
        "\n",
        "if not os.path.exists(MODEL_CP_PATH):\n",
        "  !mkdir /content/drive/MyDrive/ml_project/models # for saved models"
      ],
      "execution_count": null,
      "outputs": []
    },
    {
      "cell_type": "code",
      "metadata": {
        "id": "l-ck45Q4NhOq"
      },
      "source": [
        "!unrar x evaluation_data.rar > /dev/null"
      ],
      "execution_count": null,
      "outputs": []
    },
    {
      "cell_type": "code",
      "metadata": {
        "id": "OIinqJoCNj-X"
      },
      "source": [
        "# Dataset\n",
        "train_data = pd.read_csv(EVALUATION_LABELS_PATH)\n",
        "test_data = pd.read_csv(TEST_LABELS_PATH)\n",
        "\n",
        "f = open(LABEL_TO_DISEASE_MAP_PATH)\n",
        "label_class_name = json.load(f)\n",
        "label_class_name = {int(k):v for k,v in label_class_name.items()}\n",
        "\n",
        "train_data['class_name'] = train_data.label.map(label_class_name)\n",
        "test_data['class_name'] = test_data.label.map(label_class_name)\n",
        "\n",
        "train_datagen = ImageDataGenerator()\n",
        "test_datagen = ImageDataGenerator()\n",
        "\n",
        "train_gen = train_datagen.flow_from_dataframe(train_data,\n",
        "                                directory = EVALUATION_IMAGES_PATH,\n",
        "                                x_col = 'image_id',\n",
        "                                y_col = 'class_name',\n",
        "                                color_mode='rgb',\n",
        "                                class_mode='categorical',\n",
        "                                target_size = SIZE,\n",
        "                                shuffle = True,\n",
        "                                batch_size = BATCH_SIZE)\n",
        "\n",
        "test_gen = test_datagen.flow_from_dataframe(test_data,\n",
        "                                directory = TEST_IMAGES_PATH,\n",
        "                                x_col = 'image_id',\n",
        "                                y_col = 'class_name',\n",
        "                                color_mode='rgb',\n",
        "                                class_mode='categorical',\n",
        "                                target_size = SIZE,\n",
        "                                shuffle = False,\n",
        "                                batch_size = BATCH_SIZE)"
      ],
      "execution_count": null,
      "outputs": []
    },
    {
      "cell_type": "code",
      "metadata": {
        "id": "P_jR3DaeOkIW"
      },
      "source": [
        "# Evaluation definitions \n",
        "\n",
        "CONFUSION_MAT_EVERY_X_EPOCHS = 5\n",
        "\n",
        "class ConfusionMatrix(keras.callbacks.Callback):\n",
        "  def __init__(self, val_set, val_y):\n",
        "    self.val_set = val_set\n",
        "    self.val_y = val_y\n",
        "    self.counter = 0\n",
        "\n",
        "  def on_epoch_end(self, epoch, logs=None):\n",
        "    if epoch % CONFUSION_MAT_EVERY_X_EPOCHS == 0 and epoch != 0:\n",
        "      self.plot()\n",
        "      self.counter += 1\n",
        "\n",
        "  def plot(self):\n",
        "    test_pred_raw = self.model.predict(self.val_set)\n",
        "    test_pred = np.argmax(test_pred_raw, axis=1)\n",
        "\n",
        "    cm = sklearn.metrics.confusion_matrix(self.val_y, test_pred)\n",
        "    self.plot_confusion_matrix(cm, class_names=[0,1,2,3,4])\n",
        "\n",
        "  def plot_confusion_matrix(self, cm, class_names):\n",
        "    figure = plt.figure(figsize=(8, 8))\n",
        "    plt.imshow(cm, interpolation='nearest', cmap=plt.cm.Blues)\n",
        "    plt.title(\"Confusion matrix\")\n",
        "    plt.colorbar()\n",
        "    tick_marks = np.arange(len(class_names))\n",
        "    plt.xticks(tick_marks, class_names, rotation=45)\n",
        "    plt.yticks(tick_marks, class_names)\n",
        "\n",
        "    labels = np.around(cm.astype('float') / cm.sum(axis=1)[:, np.newaxis], decimals=2)\n",
        "    threshold = cm.max() / 2.\n",
        "    for i, j in itertools.product(range(cm.shape[0]), range(cm.shape[1])):\n",
        "      color = \"white\" if cm[i, j] > threshold else \"black\"\n",
        "      plt.text(j, i, labels[i, j], horizontalalignment=\"center\", color=color)\n",
        "\n",
        "    plt.tight_layout()\n",
        "    plt.ylabel('True label')\n",
        "    plt.xlabel('Predicted label')\n",
        "    plt.savefig(CONFUSION_MATRICES_PATH + 'conf{0}.png'.format(self.counter)) #save file\n",
        "    plt.close()"
      ],
      "execution_count": null,
      "outputs": []
    },
    {
      "cell_type": "code",
      "metadata": {
        "colab": {
          "base_uri": "https://localhost:8080/",
          "height": 129
        },
        "id": "t8FWgDvbP99s",
        "outputId": "1e3cb583-75fa-4a98-c36f-f85c0a4f44c3"
      },
      "source": [
        "if os.path.exists(MODEL_CP_PATH+'saved_model.pb'): # loads saved model in case of a disconnection\n",
        "  model = tf.keras.models.load_model(MODEL_CP_PATH)\n",
        "elif os.path.exists(MODEL_CP_PATH+'tuning_model.json'): # load the model from the tuning process\n",
        "  json_file = open(MODEL_CP_PATH+'tuning_model.json', 'r')\n",
        "  loaded_model_json = json_file.read()\n",
        "  json_file.close()\n",
        "  model = model_from_json(loaded_model_json)\n",
        "  model.load_weights(MODEL_CP_PATH+'tuning_model.h5')\n",
        "else:\n",
        "  print(\"COULD NOT FIND MODEL TO LOAD! \\n Please run the tuning notebook first :)\")\n",
        "\n",
        "conf_matrix_plotter = ConfusionMatrix(test_gen, test_gen.classes);\n",
        "live_loss_plotter = PlotLossesKeras()\n",
        "csv_logger = tf.keras.callbacks.CSVLogger(MODEL_CP_PATH+\"model_history_log.csv\", separator=\",\", append=True)\n",
        "\n",
        "training_callbacks = [\n",
        "  tf.keras.callbacks.ReduceLROnPlateau(monitor='val_loss', factor=0.2,\n",
        "                                patience=3, min_lr=0.0001),\n",
        "  tf.keras.callbacks.ModelCheckpoint(\n",
        "      MODEL_CP_PATH, monitor='val_loss', verbose=0, save_best_only=False,\n",
        "      save_weights_only=False, mode='auto', save_freq='epoch',\n",
        "      options=None\n",
        "  ),\n",
        "  csv_logger,\n",
        "  conf_matrix_plotter, # Confusion matrix\n",
        "  live_loss_plotter,   # Accuracy and loss graphs\n",
        "  tf.keras.callbacks.TensorBoard(\n",
        "    log_dir=LOGS_PATH, histogram_freq=1, write_graph=True,\n",
        "    write_images=False, update_freq='epoch', profile_batch=2,\n",
        "    embeddings_freq=0, embeddings_metadata=None\n",
        "  )\n",
        "]"
      ],
      "execution_count": null,
      "outputs": [
        {
          "output_type": "error",
          "ename": "SyntaxError",
          "evalue": "ignored",
          "traceback": [
            "\u001b[0;36m  File \u001b[0;32m\"<ipython-input-1-5b76bc83d83d>\"\u001b[0;36m, line \u001b[0;32m6\u001b[0m\n\u001b[0;31m    elif os.path.exists(MODEL_CP_PATH)\u001b[0m\n\u001b[0m                                      ^\u001b[0m\n\u001b[0;31mSyntaxError\u001b[0m\u001b[0;31m:\u001b[0m invalid syntax\n"
          ]
        }
      ]
    },
    {
      "cell_type": "code",
      "metadata": {
        "id": "SeA1ssr5b05y"
      },
      "source": [
        "hp_learning_rate = 0.023595 # your value\n",
        "hp_label_smoothing = 3.8151e-09 # your value\n",
        "model.compile(optimizer=keras.optimizers.Adam(learning_rate=hp_learning_rate, epsilon=0.1),\n",
        "                loss=keras.losses.CategoricalCrossentropy(label_smoothing=hp_label_smoothing),\n",
        "                metrics=['accuracy'])\n",
        "\n",
        "history = model.fit(train_gen,\n",
        "                    steps_per_epoch=train_get.n // BATCH_SIZE,\n",
        "                    validation_data=test_gen,\n",
        "                    epochs=EPOCHS_TO_TRAIN,\n",
        "                    callbacks = training_callbacks)"
      ],
      "execution_count": null,
      "outputs": []
    },
    {
      "cell_type": "code",
      "metadata": {
        "id": "la4HUucHhl_o"
      },
      "source": [
        "model_json = model.to_json()\n",
        "with open(MODEL_CP_PATH+\"evaluation_model.json\", \"w\") as json_file:\n",
        "  json_file.write(model_json)\n",
        "\n",
        "model.save_weights(MODEL_CP_PATH+\"evaluation_model.h5\")"
      ],
      "execution_count": null,
      "outputs": []
    }
  ]
}